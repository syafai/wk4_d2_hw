{
 "cells": [
  {
   "cell_type": "markdown",
   "id": "3ecb791e",
   "metadata": {},
   "source": [
    "Exercise #1\n",
    "Reverse the list below in-place using an in-place algorithm.\n",
    "For extra credit: Reverse the strings at the same time."
   ]
  },
  {
   "cell_type": "code",
   "execution_count": 2,
   "id": "8718cc78",
   "metadata": {},
   "outputs": [
    {
     "name": "stdout",
     "output_type": "stream",
     "text": [
      "Current string: ['this', 'is', 'a', 'sentence', '.']\n",
      "Reversed string: ['.', 'sentence', 'a', 'is', 'this']\n"
     ]
    }
   ],
   "source": [
    "def rev_strings(arr, v, w, x, y, z):\n",
    "    arr[v], arr[w], arr[x], arr[y], arr[z] = arr[z], arr[y], arr[x], arr[w], arr[v]\n",
    "    return arr\n",
    "\n",
    "words = ['this' , 'is', 'a', 'sentence', '.']\n",
    "print(f\"Current string: {words}\")\n",
    "\n",
    "rev_strings(words, 0, 1, 2, 3, 4)\n",
    "print(f\"Reversed string: {words}\")"
   ]
  },
  {
   "cell_type": "markdown",
   "id": "1da8fbd1",
   "metadata": {},
   "source": [
    "Exercise #2\n",
    "Create a function that counts how many distinct words are in the string below, then outputs a dictionary with the words as the key and the value as the amount of times that word appears in the string.\n",
    "Should output:\n",
    "{'a': 5,\n",
    "'abstract': 1,\n",
    "'an': 3,\n",
    "'array': 2, ... etc..."
   ]
  },
  {
   "cell_type": "code",
   "execution_count": 10,
   "id": "d25e6322",
   "metadata": {},
   "outputs": [
    {
     "name": "stdout",
     "output_type": "stream",
     "text": [
      "in: 1\n",
      "computing,: 1\n",
      "a: 5\n",
      "hash: 4\n",
      "table: 2\n",
      "map: 2\n",
      "is: 1\n",
      "data: 2\n",
      "structure: 2\n",
      "which: 2\n",
      "implements: 1\n",
      "an: 3\n",
      "associative: 1\n",
      "array: 2\n",
      "abstract: 1\n",
      "type,: 1\n",
      "that: 1\n",
      "can: 2\n",
      "keys: 1\n",
      "to: 2\n",
      "values.: 1\n",
      "uses: 1\n",
      "function: 1\n",
      "compute: 1\n",
      "index: 1\n",
      "into: 1\n",
      "of: 1\n",
      "buckets: 1\n",
      "or: 1\n",
      "slots: 1\n",
      "from: 1\n",
      "the: 1\n",
      "desired: 1\n",
      "value: 1\n",
      "be: 1\n",
      "found: 1\n"
     ]
    }
   ],
   "source": [
    "a_text = 'In computing, a hash table hash map is a data structure which implements an associative array abstract data type, a structure that can map keys to values. A hash table uses a hash function to compute an index into an array of buckets or slots from which the desired value can be found'\n",
    "\n",
    "def count_distinct_words(string):\n",
    "    words = string.split()\n",
    "    word_counts = {}\n",
    "\n",
    "    for word in words:\n",
    "        word_counts[word.lower()] = word_counts.get(word.lower(), 0) + 1\n",
    "\n",
    "    return word_counts\n",
    "\n",
    "word_counts = count_distinct_words(a_text)\n",
    "\n",
    "for word, count in word_counts.items():\n",
    "    print(f\"{word}: {count}\")\n"
   ]
  },
  {
   "cell_type": "markdown",
   "id": "519fc11e",
   "metadata": {},
   "source": [
    "Exercise #3¶\n",
    "Use binary search to return the index of the target num"
   ]
  },
  {
   "cell_type": "code",
   "execution_count": 5,
   "id": "a5e69b4d",
   "metadata": {},
   "outputs": [
    {
     "name": "stdout",
     "output_type": "stream",
     "text": [
      "8\n"
     ]
    }
   ],
   "source": [
    "cool_list = [2, 3, 5, 6, 12, 45, 47, 98, 123, 1000]\n",
    "target = 123\n",
    "\n",
    "def binary_search(array, target, left, right):\n",
    "    while left <= right:\n",
    "        middle = (left + right) // 2\n",
    "        potential_match = array[middle]\n",
    "        if target == potential_match:\n",
    "            return middle\n",
    "        elif target < potential_match:\n",
    "            right = middle - 1\n",
    "        else: \n",
    "            left = middle + 1\n",
    "    return -1\n",
    "\n",
    "def binary_helper(array, target):\n",
    "    return binary_search(array, target, 0, len(array) - 1)\n",
    "\n",
    "print(binary_helper(cool_list, target))"
   ]
  },
  {
   "cell_type": "code",
   "execution_count": null,
   "id": "80518173",
   "metadata": {},
   "outputs": [],
   "source": []
  }
 ],
 "metadata": {
  "kernelspec": {
   "display_name": "Python 3 (ipykernel)",
   "language": "python",
   "name": "python3"
  },
  "language_info": {
   "codemirror_mode": {
    "name": "ipython",
    "version": 3
   },
   "file_extension": ".py",
   "mimetype": "text/x-python",
   "name": "python",
   "nbconvert_exporter": "python",
   "pygments_lexer": "ipython3",
   "version": "3.10.9"
  }
 },
 "nbformat": 4,
 "nbformat_minor": 5
}
